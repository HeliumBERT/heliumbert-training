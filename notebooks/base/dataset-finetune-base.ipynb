{
 "cells": [
  {
   "cell_type": "code",
   "execution_count": 1,
   "id": "fc3fc639",
   "metadata": {},
   "outputs": [],
   "source": [
    "import os\n",
    "import json"
   ]
  },
  {
   "cell_type": "code",
   "execution_count": 2,
   "id": "4c69fa0c",
   "metadata": {},
   "outputs": [],
   "source": [
    "BASE_PATH = \"../../data/finetune/base/QS-OCR-Large\"\n",
    "\n",
    "PREPROCESS_SAVE_PATH = \"../../data/finetune/base/QS-OCR-Large-save\""
   ]
  },
  {
   "cell_type": "code",
   "execution_count": 3,
   "id": "8a67269a",
   "metadata": {},
   "outputs": [
    {
     "data": {
      "text/plain": [
       "['../../data/finetune/base/QS-OCR-Large\\\\text_test.txt',\n",
       " '../../data/finetune/base/QS-OCR-Large\\\\text_train.txt',\n",
       " '../../data/finetune/base/QS-OCR-Large\\\\text_val.txt']"
      ]
     },
     "execution_count": 3,
     "metadata": {},
     "output_type": "execute_result"
    }
   ],
   "source": [
    "split_files = []\n",
    "\n",
    "for file_or_dir_name in os.listdir(BASE_PATH):\n",
    "    path = os.path.join(BASE_PATH, file_or_dir_name)\n",
    "    if (os.path.isfile(path)):\n",
    "        split_files.append(path)\n",
    "\n",
    "split_files"
   ]
  },
  {
   "cell_type": "code",
   "execution_count": 4,
   "id": "e0bcb7a6",
   "metadata": {},
   "outputs": [],
   "source": [
    "mappings = {\n",
    "    \"0\": \"letter\",\n",
    "    \"1\": \"form\",\n",
    "    \"2\": \"email\",\n",
    "    \"3\": \"handwritten\",\n",
    "    \"4\": \"advertisement\",\n",
    "    \"5\": \"scientific report\",\n",
    "    \"6\": \"scientific publication\",\n",
    "    \"7\": \"specification\",\n",
    "    \"8\": \"file folder\",\n",
    "    \"9\": \"news article\",\n",
    "    \"10\": \"budget\",\n",
    "    \"11\": \"invoice\",\n",
    "    \"12\": \"presentation\",\n",
    "    \"13\": \"questionnaire\",\n",
    "    \"14\": \"resume\",\n",
    "    \"15\": \"memo\"\n",
    "}"
   ]
  },
  {
   "cell_type": "code",
   "execution_count": 8,
   "id": "c2e3e037",
   "metadata": {},
   "outputs": [],
   "source": [
    "import re\n",
    "\n",
    "newline_spam = re.compile(\"\\n{3,}\")\n",
    "\n",
    "def normalize_text(text: str):\n",
    "    result = newline_spam.sub(\"\\n\\n\", text)\n",
    "    return result\n",
    "\n",
    "def is_removed(text: str):\n",
    "    processed = text.strip()\n",
    "    processed = processed.strip(\"\\n\\t\")\n",
    "\n",
    "    return len(processed) == 0"
   ]
  },
  {
   "cell_type": "code",
   "execution_count": 6,
   "id": "caae6a26",
   "metadata": {},
   "outputs": [],
   "source": [
    "from tqdm import tqdm"
   ]
  },
  {
   "cell_type": "code",
   "execution_count": 9,
   "id": "b6affc4f",
   "metadata": {},
   "outputs": [
    {
     "name": "stderr",
     "output_type": "stream",
     "text": [
      "../../data/finetune/base/QS-OCR-Large\\text_test.txt: 100%|██████████| 40.0k/40.0k [07:01<00:00, 94.9lines/s] \n",
      "../../data/finetune/base/QS-OCR-Large\\text_train.txt: 100%|██████████| 320k/320k [1:12:24<00:00, 73.7lines/s] \n",
      "../../data/finetune/base/QS-OCR-Large\\text_val.txt: 100%|██████████| 40.0k/40.0k [09:18<00:00, 71.7lines/s]\n"
     ]
    }
   ],
   "source": [
    "for split_file_path in split_files:\n",
    "\n",
    "    save_path = os.path.join(PREPROCESS_SAVE_PATH, os.path.split(split_file_path)[1] + \".jsonl\")\n",
    "    save_folder_path = os.path.split(save_path)[0]\n",
    "    if not os.path.isdir(save_folder_path):\n",
    "        os.mkdir(os.path.split(save_path)[0])\n",
    "\n",
    "    with open(save_path, mode=\"w\", encoding=\"UTF-8\") as save_file:\n",
    "        with open(split_file_path, mode=\"r\", encoding=\"UTF-8\") as split_file:\n",
    "\n",
    "            total_lines = sum(1 for _ in split_file)\n",
    "            split_file.seek(0)\n",
    "\n",
    "            with tqdm(total=total_lines, unit=\"lines\", unit_scale=True, desc=split_file_path) as pbar:\n",
    "                for document_label_path in split_file:\n",
    "                    pbar.update(1)\n",
    "                    partial_document_path, label = document_label_path.split()\n",
    "\n",
    "                    document_path = os.path.join(BASE_PATH, partial_document_path)\n",
    "\n",
    "                    with open(document_path, mode=\"r\", encoding=\"UTF-8\") as document_file:\n",
    "\n",
    "                        document_text = normalize_text(\"\\n\".join(document_file.readlines()))\n",
    "\n",
    "                        if not is_removed(document_text):\n",
    "                            save_file.write(json.dumps({\n",
    "                                \"text\": document_text,\n",
    "                                \"label\": mappings[label]\n",
    "                            }) + \"\\n\")"
   ]
  },
  {
   "cell_type": "code",
   "execution_count": 10,
   "id": "90daea40",
   "metadata": {},
   "outputs": [],
   "source": [
    "from datasets import load_dataset, Features, Value, ClassLabel, DatasetDict, Dataset\n",
    "import pandas as pd"
   ]
  },
  {
   "cell_type": "code",
   "execution_count": 11,
   "id": "04e5bb5f",
   "metadata": {},
   "outputs": [
    {
     "data": {
      "application/vnd.jupyter.widget-view+json": {
       "model_id": "d615496a9b26478088531dd33c94183a",
       "version_major": 2,
       "version_minor": 0
      },
      "text/plain": [
       "Casting the dataset:   0%|          | 0/308026 [00:00<?, ? examples/s]"
      ]
     },
     "metadata": {},
     "output_type": "display_data"
    },
    {
     "data": {
      "application/vnd.jupyter.widget-view+json": {
       "model_id": "4437fdada0cc404c88ec832cc5a14669",
       "version_major": 2,
       "version_minor": 0
      },
      "text/plain": [
       "Casting the dataset:   0%|          | 0/38498 [00:00<?, ? examples/s]"
      ]
     },
     "metadata": {},
     "output_type": "display_data"
    },
    {
     "data": {
      "application/vnd.jupyter.widget-view+json": {
       "model_id": "24a0b1769ddd444b930b8ae170e559f7",
       "version_major": 2,
       "version_minor": 0
      },
      "text/plain": [
       "Casting the dataset:   0%|          | 0/38520 [00:00<?, ? examples/s]"
      ]
     },
     "metadata": {},
     "output_type": "display_data"
    },
    {
     "data": {
      "text/plain": [
       "DatasetDict({\n",
       "    train: Dataset({\n",
       "        features: ['text', 'label'],\n",
       "        num_rows: 308026\n",
       "    })\n",
       "    validation: Dataset({\n",
       "        features: ['text', 'label'],\n",
       "        num_rows: 38498\n",
       "    })\n",
       "    test: Dataset({\n",
       "        features: ['text', 'label'],\n",
       "        num_rows: 38520\n",
       "    })\n",
       "})"
      ]
     },
     "execution_count": 11,
     "metadata": {},
     "output_type": "execute_result"
    }
   ],
   "source": [
    "data_files = {\n",
    "    \"train\": os.path.abspath(r\"..\\..\\data\\finetune\\base\\QS-OCR-Large-save\\text_train.txt.jsonl\"),\n",
    "    \"validation\": os.path.abspath(r\"..\\..\\data\\finetune\\base\\QS-OCR-Large-save\\text_val.txt.jsonl\"),\n",
    "    \"test\": os.path.abspath(r\"..\\..\\data\\finetune\\base\\QS-OCR-Large-save\\text_test.txt.jsonl\")\n",
    "}\n",
    "\n",
    "features = Features({\n",
    "    \"text\": Value(\"string\"),\n",
    "    \"label\": ClassLabel(names=list(mappings.values()))\n",
    "})\n",
    "\n",
    "dataset = DatasetDict({\n",
    "    key: Dataset.from_pandas(pd.read_json(value, lines=True)).cast(features)\n",
    "    for key, value in data_files.items()\n",
    "})\n",
    "\n",
    "dataset"
   ]
  },
  {
   "cell_type": "code",
   "execution_count": 12,
   "id": "0265423e",
   "metadata": {},
   "outputs": [
    {
     "data": {
      "application/vnd.jupyter.widget-view+json": {
       "model_id": "40ebe30d13a74ad78187bbd591614865",
       "version_major": 2,
       "version_minor": 0
      },
      "text/plain": [
       "Saving the dataset (0/1 shards):   0%|          | 0/308026 [00:00<?, ? examples/s]"
      ]
     },
     "metadata": {},
     "output_type": "display_data"
    },
    {
     "data": {
      "application/vnd.jupyter.widget-view+json": {
       "model_id": "04ddf0a7e7ff4fe89b75d280bfd0226e",
       "version_major": 2,
       "version_minor": 0
      },
      "text/plain": [
       "Saving the dataset (0/1 shards):   0%|          | 0/38498 [00:00<?, ? examples/s]"
      ]
     },
     "metadata": {},
     "output_type": "display_data"
    },
    {
     "data": {
      "application/vnd.jupyter.widget-view+json": {
       "model_id": "44f38f437ff54c52ba54c0a58f22418a",
       "version_major": 2,
       "version_minor": 0
      },
      "text/plain": [
       "Saving the dataset (0/1 shards):   0%|          | 0/38520 [00:00<?, ? examples/s]"
      ]
     },
     "metadata": {},
     "output_type": "display_data"
    }
   ],
   "source": [
    "dataset.save_to_disk(BASE_PATH + \"-raw\")"
   ]
  }
 ],
 "metadata": {
  "kernelspec": {
   "display_name": ".venv",
   "language": "python",
   "name": "python3"
  },
  "language_info": {
   "codemirror_mode": {
    "name": "ipython",
    "version": 3
   },
   "file_extension": ".py",
   "mimetype": "text/x-python",
   "name": "python",
   "nbconvert_exporter": "python",
   "pygments_lexer": "ipython3",
   "version": "3.12.7"
  }
 },
 "nbformat": 4,
 "nbformat_minor": 5
}
