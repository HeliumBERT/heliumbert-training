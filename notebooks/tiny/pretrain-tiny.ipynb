{
 "cells": [
  {
   "cell_type": "code",
   "execution_count": 79,
   "id": "aeee0fae",
   "metadata": {},
   "outputs": [],
   "source": [
    "from transformers import DataCollatorForLanguageModeling, AutoTokenizer, Trainer, TrainingArguments"
   ]
  },
  {
   "cell_type": "code",
   "execution_count": 80,
   "id": "3f2e5e00",
   "metadata": {},
   "outputs": [],
   "source": [
    "DATASET_PROC_PATH = \"../../data/pretrain/tiny/wikitext-2-v1-tiny-proc\"\n",
    "TEST_SIZE = 0.2\n",
    "VAL_SIZE = 0.2\n",
    "SPLIT_SEED = 42069\n",
    "\n",
    "TOKENIZER_NAME = \"albert-base-v2\"\n",
    "MLM_PROBABILITY = 0.15\n",
    "\n",
    "TRAINER_OUTPUT = \"../../experiments/checkpoints/tiny/pretrain\"\n",
    "EPOCHS = 1\n",
    "LOGGING_STEPS = 2\n",
    "LOGGER_OUTPUT = \"../../experiments/logs/tiny/pretrain\"\n",
    "SAVE_STEPS = 2\n",
    "SAVE_LIMIT = 5"
   ]
  },
  {
   "cell_type": "code",
   "execution_count": 81,
   "id": "37660ddf",
   "metadata": {},
   "outputs": [],
   "source": [
    "from transformers import BertForMaskedLM\n",
    "\n",
    "MODEL = BertForMaskedLM"
   ]
  },
  {
   "cell_type": "code",
   "execution_count": 82,
   "id": "1c6077e2",
   "metadata": {},
   "outputs": [],
   "source": [
    "from datasets import load_from_disk\n",
    "\n",
    "dataset = load_from_disk(DATASET_PROC_PATH)"
   ]
  },
  {
   "cell_type": "code",
   "execution_count": 83,
   "id": "c5e18f6f",
   "metadata": {},
   "outputs": [
    {
     "name": "stdout",
     "output_type": "stream",
     "text": [
      "128 40 32\n"
     ]
    }
   ],
   "source": [
    "split_train_test = dataset.train_test_split(test_size=TEST_SIZE, seed=SPLIT_SEED)\n",
    "dataset_test = split_train_test[\"test\"]\n",
    "\n",
    "split_train_val = split_train_test[\"train\"].train_test_split(test_size=VAL_SIZE, seed=SPLIT_SEED)\n",
    "dataset_train = split_train_val[\"train\"]\n",
    "dataset_val = split_train_val[\"test\"]\n",
    "\n",
    "print(len(dataset_train), len(dataset_test), len(dataset_val))"
   ]
  },
  {
   "cell_type": "code",
   "execution_count": 84,
   "id": "c3e5c366",
   "metadata": {},
   "outputs": [],
   "source": [
    "tokenizer = AutoTokenizer.from_pretrained(TOKENIZER_NAME)\n",
    "\n",
    "data_collator = DataCollatorForLanguageModeling(\n",
    "    tokenizer=tokenizer,\n",
    "    mlm=True, mlm_probability=MLM_PROBABILITY\n",
    ")"
   ]
  },
  {
   "cell_type": "code",
   "execution_count": 85,
   "id": "89c0d61c",
   "metadata": {},
   "outputs": [
    {
     "name": "stderr",
     "output_type": "stream",
     "text": [
      "Some weights of the model checkpoint at bert-base-uncased were not used when initializing BertForMaskedLM: ['bert.pooler.dense.bias', 'bert.pooler.dense.weight', 'cls.seq_relationship.bias', 'cls.seq_relationship.weight']\n",
      "- This IS expected if you are initializing BertForMaskedLM from the checkpoint of a model trained on another task or with another architecture (e.g. initializing a BertForSequenceClassification model from a BertForPreTraining model).\n",
      "- This IS NOT expected if you are initializing BertForMaskedLM from the checkpoint of a model that you expect to be exactly identical (initializing a BertForSequenceClassification model from a BertForSequenceClassification model).\n"
     ]
    }
   ],
   "source": [
    "model = MODEL.from_pretrained(\"bert-base-uncased\")"
   ]
  },
  {
   "cell_type": "code",
   "execution_count": 86,
   "id": "eec41447",
   "metadata": {},
   "outputs": [],
   "source": [
    "training_args = TrainingArguments(\n",
    "    output_dir=TRAINER_OUTPUT,\n",
    "    overwrite_output_dir=True,\n",
    "\n",
    "    num_train_epochs=EPOCHS,\n",
    "    prediction_loss_only=False,\n",
    "\n",
    "    per_device_train_batch_size=16,\n",
    "\n",
    "    logging_strategy=\"steps\",\n",
    "    logging_steps=LOGGING_STEPS,\n",
    "    logging_dir=LOGGER_OUTPUT,\n",
    "\n",
    "    save_strategy=\"steps\",\n",
    "    save_steps=SAVE_STEPS,\n",
    "    save_total_limit=SAVE_LIMIT,\n",
    ")"
   ]
  },
  {
   "cell_type": "code",
   "execution_count": 87,
   "id": "84635df2",
   "metadata": {},
   "outputs": [],
   "source": [
    "trainer = Trainer(\n",
    "    model=model,\n",
    "    args=training_args,\n",
    "    train_dataset=dataset_train,\n",
    "    eval_dataset=dataset_val,\n",
    "    data_collator=data_collator\n",
    ")"
   ]
  },
  {
   "cell_type": "code",
   "execution_count": 88,
   "id": "6e41cbe1",
   "metadata": {},
   "outputs": [
    {
     "data": {
      "text/html": [
       "\n",
       "    <div>\n",
       "      \n",
       "      <progress value='8' max='8' style='width:300px; height:20px; vertical-align: middle;'></progress>\n",
       "      [8/8 05:09, Epoch 1/1]\n",
       "    </div>\n",
       "    <table border=\"1\" class=\"dataframe\">\n",
       "  <thead>\n",
       " <tr style=\"text-align: left;\">\n",
       "      <th>Step</th>\n",
       "      <th>Training Loss</th>\n",
       "    </tr>\n",
       "  </thead>\n",
       "  <tbody>\n",
       "    <tr>\n",
       "      <td>2</td>\n",
       "      <td>12.087400</td>\n",
       "    </tr>\n",
       "    <tr>\n",
       "      <td>4</td>\n",
       "      <td>9.071300</td>\n",
       "    </tr>\n",
       "    <tr>\n",
       "      <td>6</td>\n",
       "      <td>8.940000</td>\n",
       "    </tr>\n",
       "    <tr>\n",
       "      <td>8</td>\n",
       "      <td>8.712300</td>\n",
       "    </tr>\n",
       "  </tbody>\n",
       "</table><p>"
      ],
      "text/plain": [
       "<IPython.core.display.HTML object>"
      ]
     },
     "metadata": {},
     "output_type": "display_data"
    },
    {
     "data": {
      "text/plain": [
       "TrainOutput(global_step=8, training_loss=9.702746391296387, metrics={'train_runtime': 330.8131, 'train_samples_per_second': 0.387, 'train_steps_per_second': 0.024, 'total_flos': 8422554009600.0, 'train_loss': 9.702746391296387, 'epoch': 1.0})"
      ]
     },
     "execution_count": 88,
     "metadata": {},
     "output_type": "execute_result"
    }
   ],
   "source": [
    "trainer.train()"
   ]
  },
  {
   "cell_type": "code",
   "execution_count": 89,
   "id": "b6f5ea59",
   "metadata": {},
   "outputs": [
    {
     "name": "stderr",
     "output_type": "stream",
     "text": [
      "z:\\[1] cluster\\[3] school\\[2] college\\year 4\\sem 1\\thesis\\modelling\\heliumbert-training\\.venv\\Lib\\site-packages\\torch\\utils\\data\\dataloader.py:666: UserWarning: 'pin_memory' argument is set as true but no accelerator is found, then device pinned memory won't be used.\n",
      "  warnings.warn(warn_msg)\n"
     ]
    },
    {
     "data": {
      "text/html": [
       "\n",
       "    <div>\n",
       "      \n",
       "      <progress value='4' max='4' style='width:300px; height:20px; vertical-align: middle;'></progress>\n",
       "      [4/4 00:04]\n",
       "    </div>\n",
       "    "
      ],
      "text/plain": [
       "<IPython.core.display.HTML object>"
      ]
     },
     "metadata": {},
     "output_type": "display_data"
    },
    {
     "data": {
      "text/plain": [
       "{'eval_loss': 8.667927742004395,\n",
       " 'eval_runtime': 5.7043,\n",
       " 'eval_samples_per_second': 5.61,\n",
       " 'eval_steps_per_second': 0.701,\n",
       " 'epoch': 1.0}"
      ]
     },
     "execution_count": 89,
     "metadata": {},
     "output_type": "execute_result"
    }
   ],
   "source": [
    "trainer.evaluate()"
   ]
  }
 ],
 "metadata": {
  "kernelspec": {
   "display_name": ".venv",
   "language": "python",
   "name": "python3"
  },
  "language_info": {
   "codemirror_mode": {
    "name": "ipython",
    "version": 3
   },
   "file_extension": ".py",
   "mimetype": "text/x-python",
   "name": "python",
   "nbconvert_exporter": "python",
   "pygments_lexer": "ipython3",
   "version": "3.12.7"
  }
 },
 "nbformat": 4,
 "nbformat_minor": 5
}
