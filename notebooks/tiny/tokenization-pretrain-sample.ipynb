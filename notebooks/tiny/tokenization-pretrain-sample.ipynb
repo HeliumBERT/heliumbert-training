{
 "cells": [
  {
   "cell_type": "code",
   "execution_count": 7,
   "id": "5d7d6cf0",
   "metadata": {},
   "outputs": [],
   "source": [
    "from datasets import load_from_disk"
   ]
  },
  {
   "cell_type": "code",
   "execution_count": 13,
   "id": "b1a10465",
   "metadata": {},
   "outputs": [],
   "source": [
    "DATASET_RAW_PATH = \"../../data/pretrain/tiny/wikitext-2-v1-tiny\"\n",
    "DATASET_SPLIT = \"text\"\n",
    "TOKENIZER_NAME = \"albert-base-v2\"\n",
    "\n",
    "DATASET_PROC_SAVE_PATH = f\"{DATASET_RAW_PATH}-proc\""
   ]
  },
  {
   "cell_type": "code",
   "execution_count": null,
   "id": "7c5e9a11",
   "metadata": {},
   "outputs": [
    {
     "data": {
      "text/plain": [
       "Dataset({\n",
       "    features: ['text'],\n",
       "    num_rows: 10\n",
       "})"
      ]
     },
     "execution_count": 9,
     "metadata": {},
     "output_type": "execute_result"
    }
   ],
   "source": [
    "dataset_raw = load_from_disk(DATASET_RAW_PATH)\n",
    "dataset_raw"
   ]
  },
  {
   "cell_type": "code",
   "execution_count": 10,
   "id": "3017816d",
   "metadata": {},
   "outputs": [],
   "source": [
    "from transformers import AutoTokenizer"
   ]
  },
  {
   "cell_type": "code",
   "execution_count": 11,
   "id": "bab04ff6",
   "metadata": {},
   "outputs": [
    {
     "data": {
      "application/vnd.jupyter.widget-view+json": {
       "model_id": "3f1a83c63c6041f8a84b8d06e32b2915",
       "version_major": 2,
       "version_minor": 0
      },
      "text/plain": [
       "Map:   0%|          | 0/10 [00:00<?, ? examples/s]"
      ]
     },
     "metadata": {},
     "output_type": "display_data"
    },
    {
     "data": {
      "text/plain": [
       "Dataset({\n",
       "    features: ['input_ids', 'token_type_ids', 'attention_mask'],\n",
       "    num_rows: 10\n",
       "})"
      ]
     },
     "execution_count": 11,
     "metadata": {},
     "output_type": "execute_result"
    }
   ],
   "source": [
    "tokenizer = AutoTokenizer.from_pretrained(\"albert-base-v2\")\n",
    "\n",
    "def tokenize_function(samples):\n",
    "    return tokenizer(\n",
    "        samples[DATASET_SPLIT],\n",
    "        padding=\"max_length\",\n",
    "        truncation=True,\n",
    "        max_length=128\n",
    "    )\n",
    "\n",
    "dataset_proc = dataset_raw.map(tokenize_function, batched=True, remove_columns=[DATASET_SPLIT])\n",
    "dataset_proc"
   ]
  },
  {
   "cell_type": "code",
   "execution_count": 14,
   "id": "5b618899",
   "metadata": {},
   "outputs": [
    {
     "data": {
      "application/vnd.jupyter.widget-view+json": {
       "model_id": "a9f28a310e1b47a5aa26742e707fc5b8",
       "version_major": 2,
       "version_minor": 0
      },
      "text/plain": [
       "Saving the dataset (0/1 shards):   0%|          | 0/10 [00:00<?, ? examples/s]"
      ]
     },
     "metadata": {},
     "output_type": "display_data"
    }
   ],
   "source": [
    "dataset_proc.save_to_disk(DATASET_PROC_SAVE_PATH)"
   ]
  }
 ],
 "metadata": {
  "kernelspec": {
   "display_name": ".venv",
   "language": "python",
   "name": "python3"
  },
  "language_info": {
   "codemirror_mode": {
    "name": "ipython",
    "version": 3
   },
   "file_extension": ".py",
   "mimetype": "text/x-python",
   "name": "python",
   "nbconvert_exporter": "python",
   "pygments_lexer": "ipython3",
   "version": "3.12.7"
  }
 },
 "nbformat": 4,
 "nbformat_minor": 5
}
